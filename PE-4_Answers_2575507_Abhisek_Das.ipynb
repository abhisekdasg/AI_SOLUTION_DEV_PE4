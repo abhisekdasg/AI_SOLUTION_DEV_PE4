{
 "cells": [
  {
   "cell_type": "markdown",
   "id": "cec1736a",
   "metadata": {},
   "source": [
    "# Medical Diagnosis with Naive Bayes\n",
    "You work for a medical research institute, and your task is to develop a diagnostic system using the Naive Bayes algorithm. You have a dataset with various medical test results, patient information, and corresponding diagnoses (e.g., presence or absence of a medical condition). Your goal is to create a classification model to aid in the medical diagnosis process. Answer the following questions based on this case study:\n",
    "\n",
    "\n",
    "1. Data Exploration:\n",
    "    a. Load and explore the medical dataset using Python libraries like pandas. Describe the features, labels, and the distribution of diagnoses.\n",
    "\n",
    "2. Data Preprocessing:\n",
    "    a. Explain the necessary data preprocessing steps for preparing the medical data. This may include handling missing values, normalizing or scaling features, and encoding categorical variables.\n",
    "    b. Calculate the prior probabilities P(Condition) and P(No Condition) based on the class distribution.\n",
    "\n",
    "3. Feature Engineering:\n",
    "    a. Describe how to convert the medical test results and patient information into suitable features for the Naive Bayes model.\n",
    "    b. Discuss the importance of feature selection or dimensionality reduction in medical diagnosis.\n",
    "\n",
    "4. Implementing Naive Bayes:\n",
    "    a. Choose the appropriate Naive Bayes variant (e.g., Gaussian, Multinomial, or Bernoulli Naive Bayes) for the medical diagnosis task and implement the classifier using Python libraries like scikit-learn.\n",
    "    b. Split the dataset into training and testing sets.\n",
    "\n",
    "5. Model Training:\n",
    "    a. Train the Naive Bayes model using the feature-engineered dataset. Explain the probability estimation process in Naive Bayes for medical diagnosis.\n",
    "\n",
    "6. Model Evaluation:\n",
    "    a. Assess the performance of the medical diagnosis model using relevant evaluation metrics, such as accuracy, precision, recall, and F1-score.\n",
    "    b. Interpret the results and discuss the model's ability to accurately classify medical conditions.\n",
    "\n",
    "7. Laplace Smoothing:\n",
    "    a. Explain the concept of Laplace (add-one) smoothing and discuss its potential application in the context of medical diagnosis.\n",
    "    b. Discuss the impact of Laplace smoothing on model performance.\n",
    "\n",
    "8. Real-World Application:\n",
    "    a. Describe the importance of accurate medical diagnosis in healthcare and research.\n",
    "    b. Discuss the practical implications of implementing a diagnostic system based on Naive Bayes.\n",
    "\n",
    "9. Model Limitations:\n",
    "    a. Identify potential limitations of the Naive Bayes approach to medical diagnosis and discuss scenarios in which it may not perform well.\n",
    "\n",
    "10. Presentation and Recommendations:\n",
    "    a. Prepare a presentation or report summarizing your analysis, results, and recommendations for the medical research institute. Highlight the significance of accurate medical diagnosis and the role of Naive Bayes in healthcare.\n",
    "\n",
    "    In this case study, you can demonstrate your ability to apply the Naive Bayes algorithm to non-text data, understand the nuances of feature engineering for different types of data, and assess the model's performance in a critical domain such as medical diagnosis.\n"
   ]
  },
  {
   "cell_type": "markdown",
   "id": "4a41b973",
   "metadata": {},
   "source": [
    "# 1. Data Exploration:\n",
    "    a. Load and explore the medical dataset using Python libraries like pandas. Describe the features, labels, and the distribution of diagnoses.\n"
   ]
  },
  {
   "cell_type": "code",
   "execution_count": null,
   "id": "3ec9aa72",
   "metadata": {},
   "outputs": [],
   "source": [
    "# a. Load and explore the medical dataset using Python libraries like pandas. Describe the features, labels, and the distribution of diagnoses.\n",
    "Pregnancies: Number of times pregnant\n",
    "Glucose: Plasma glucose concentration a 2 hours in an oral glucose tolerance test\n",
    "BloodPressure: Diastolic blood pressure (mm Hg)\n",
    "SkinThickness: Triceps skin fold thickness (mm)\n",
    "Insulin: 2-Hour serum insulin (mu U/ml)\n",
    "BMI: Body mass index (weight in kg/(height in m)^2)\n",
    "DiabetesPedigreeFunction: Diabetes pedigree function (a function which scores likelihood of diabetes based on family history)\n",
    "Age: Age in years\n",
    "Outcome: Whether the person has diabetes (1) or not (0)"
   ]
  },
  {
   "cell_type": "code",
   "execution_count": 3,
   "id": "bb2fd14b",
   "metadata": {},
   "outputs": [
    {
     "name": "stdout",
     "output_type": "stream",
     "text": [
      "   Pregnancies  Glucose  BloodPressure  SkinThickness  Insulin   BMI  \\\n",
      "0            6      148             72             35        0  33.6   \n",
      "1            1       85             66             29        0  26.6   \n",
      "2            8      183             64              0        0  23.3   \n",
      "3            1       89             66             23       94  28.1   \n",
      "4            0      137             40             35      168  43.1   \n",
      "\n",
      "   DiabetesPedigreeFunction  Age  Outcome  \n",
      "0                     0.627   50        1  \n",
      "1                     0.351   31        0  \n",
      "2                     0.672   32        1  \n",
      "3                     0.167   21        0  \n",
      "4                     2.288   33        1  \n",
      "0    500\n",
      "1    268\n",
      "Name: Outcome, dtype: int64\n"
     ]
    }
   ],
   "source": [
    "import pandas as pd\n",
    "\n",
    "# Load the diabetes dataset from a CSV file\n",
    "data = pd.read_csv('diabetes.csv')\n",
    "\n",
    "# Describe features, labels, and the distribution of diagnoses\n",
    "features = data.drop('Outcome', axis=1)\n",
    "labels = data['Outcome']\n",
    "\n",
    "# Display the first few rows of the dataset\n",
    "print(data.head())\n",
    "\n",
    "# Describe the distribution of diagnoses\n",
    "diagnosis_distribution = labels.value_counts()\n",
    "print(diagnosis_distribution)\n"
   ]
  },
  {
   "cell_type": "code",
   "execution_count": null,
   "id": "3a2f9a7d",
   "metadata": {},
   "outputs": [],
   "source": []
  },
  {
   "cell_type": "markdown",
   "id": "0e353c0e",
   "metadata": {},
   "source": [
    "# 2. Data Preprocessing:\n",
    "    a. Explain the necessary data preprocessing steps for preparing the medical data. This may include handling missing values, normalizing or scaling features, and encoding categorical variables.\n",
    "    b. Calculate the prior probabilities P(Condition) and P(No Condition) based on the class distribution.\n"
   ]
  },
  {
   "cell_type": "code",
   "execution_count": 4,
   "id": "b43cb88f",
   "metadata": {},
   "outputs": [
    {
     "name": "stdout",
     "output_type": "stream",
     "text": [
      "   Pregnancies   Glucose  BloodPressure  SkinThickness   Insulin       BMI  \\\n",
      "0     0.352941  0.743719       0.590164       0.353535  0.000000  0.500745   \n",
      "1     0.058824  0.427136       0.540984       0.292929  0.000000  0.396423   \n",
      "2     0.470588  0.919598       0.524590       0.000000  0.000000  0.347243   \n",
      "3     0.058824  0.447236       0.540984       0.232323  0.111111  0.418778   \n",
      "4     0.000000  0.688442       0.327869       0.353535  0.198582  0.642325   \n",
      "\n",
      "   DiabetesPedigreeFunction       Age  \n",
      "0                  0.234415  0.483333  \n",
      "1                  0.116567  0.166667  \n",
      "2                  0.253629  0.183333  \n",
      "3                  0.038002  0.000000  \n",
      "4                  0.943638  0.200000  \n"
     ]
    }
   ],
   "source": [
    "#a. Explain the necessary data preprocessing steps for preparing the medical data. This may include handling missing values, normalizing or scaling features, and encoding categorical variables.\n",
    "from sklearn.preprocessing import MinMaxScaler\n",
    "\n",
    "# a. Data Preprocessing Steps:\n",
    "\n",
    "# 1. Handling Missing Values: Fill missing values with the mean of the respective column\n",
    "data.fillna(data.mean(), inplace=True)\n",
    "\n",
    "# 2. Normalizing Features: Scale features using Min-Max scaling\n",
    "scaler = MinMaxScaler()\n",
    "features = data.drop('Outcome', axis=1)  # Exclude the 'Outcome' column for feature scaling\n",
    "scaled_features = scaler.fit_transform(features)\n",
    "scaled_df = pd.DataFrame(scaled_features, columns=features.columns)\n",
    "\n",
    "# Display the first few rows of the preprocessed data\n",
    "print(scaled_df.head())\n"
   ]
  },
  {
   "cell_type": "code",
   "execution_count": 5,
   "id": "caf48cfb",
   "metadata": {},
   "outputs": [
    {
     "name": "stdout",
     "output_type": "stream",
     "text": [
      "P(Condition): 0.3489583333333333\n",
      "P(No Condition): 0.6510416666666667\n"
     ]
    }
   ],
   "source": [
    "#b. Calculate the prior probabilities P(Condition) and P(No Condition) based on the class distribution.\n",
    "\n",
    "labels = data['Outcome']\n",
    "condition_prob = labels.sum() / len(labels)  # Number of patients with condition / Total number of patients\n",
    "no_condition_prob = 1 - condition_prob\n",
    "\n",
    "print(\"P(Condition):\", condition_prob)\n",
    "print(\"P(No Condition):\", no_condition_prob)\n"
   ]
  },
  {
   "cell_type": "markdown",
   "id": "925efa01",
   "metadata": {},
   "source": [
    "# 3. Feature Engineering:\n",
    "    a. Describe how to convert the medical test results and patient information into suitable features for the Naive Bayes model.\n",
    "    b. Discuss  the importance of feature selection or dimensionality reduction in medical diagnosis.\n"
   ]
  },
  {
   "cell_type": "code",
   "execution_count": null,
   "id": "b53d1c8c",
   "metadata": {},
   "outputs": [],
   "source": [
    "#  a. Describe how to convert the medical test results and patient information into suitable features for the Naive Bayes model.\n",
    "\n",
    "    For the Naive Bayes model, it's important to represent the medical test results and patient information in a format suitable for the algorithm. \n",
    "    Since Naive Bayes assumes feature independence, you need to consider how to convert the data into independent features. \n",
    "    In your diabetes dataset, the features are already numerical, which is suitable for the Naive Bayes model. \n",
    "    If you had categorical variables, you would use techniques like one-hot encoding to convert them into numerical features.\n",
    "\n",
    "    Additionally, if we want to account for non-linear relationships between features, then we might consider creating interaction terms or polynomial features. \n",
    "    For example, we could create a new feature by multiplying two existing features or by squaring a feature. \n",
    "    This can help the model to capture complex relationships between variables."
   ]
  },
  {
   "cell_type": "code",
   "execution_count": null,
   "id": "dd052e4b",
   "metadata": {},
   "outputs": [],
   "source": [
    "#     b. Discuss the importance of feature selection or dimensionality reduction in medical diagnosis.\n",
    "\n",
    "    Feature selection or dimensionality reduction techniques are crucial in medical diagnosis tasks. \n",
    "    As the number of features increases, the model's complexity also increases, which can lead to overfitting, especially if the dataset is small. \n",
    "    Feature selection methods help identify the most relevant features for the task, while dimensionality reduction techniques like Principal Component Analysis (PCA) can reduce the number of features while preserving the most important information.\n",
    "\n",
    "    In the context of Naive Bayes, reducing the number of irrelevant or redundant features can lead to a more accurate and efficient model. \n",
    "    It can also mitigate the impact of the curse of dimensionality, where the model's performance degrades as the number of features increases."
   ]
  },
  {
   "cell_type": "markdown",
   "id": "7c7711f3",
   "metadata": {},
   "source": [
    "# 4. Implementing Naive Bayes:\n",
    "    a. Choose the appropriate Naive Bayes variant (e.g., Gaussian, Multinomial, or Bernoulli Naive Bayes) for the medical diagnosis task and implement the classifier using Python libraries like scikit-learn.\n",
    "    b. Split the dataset into training and testing sets.\n"
   ]
  },
  {
   "cell_type": "code",
   "execution_count": 7,
   "id": "242e7079",
   "metadata": {},
   "outputs": [
    {
     "name": "stdout",
     "output_type": "stream",
     "text": [
      "Accuracy: 0.7662337662337663\n",
      "Classification Report:\n",
      "               precision    recall  f1-score   support\n",
      "\n",
      "           0       0.83      0.80      0.81        99\n",
      "           1       0.66      0.71      0.68        55\n",
      "\n",
      "    accuracy                           0.77       154\n",
      "   macro avg       0.75      0.75      0.75       154\n",
      "weighted avg       0.77      0.77      0.77       154\n",
      "\n"
     ]
    }
   ],
   "source": [
    "#  a. Choose the appropriate Naive Bayes variant (e.g., Gaussian, Multinomial, or Bernoulli Naive Bayes) for the medical diagnosis task and implement the classifier using Python libraries like scikit-learn.\n",
    "from sklearn.model_selection import train_test_split\n",
    "from sklearn.naive_bayes import GaussianNB\n",
    "from sklearn.metrics import accuracy_score, classification_report\n",
    "\n",
    "X = scaled_features\n",
    "y = labels\n",
    "\n",
    "#b . Split the dataset into training and testing sets (80% training, 20% testing)\n",
    "X_train, X_test, y_train, y_test = train_test_split(X, y, test_size=0.2, random_state=42)\n",
    "\n",
    "# Initialize Gaussian Naive Bayes classifier\n",
    "nb_classifier = GaussianNB()\n",
    "\n",
    "# Train the model using the training data\n",
    "nb_classifier.fit(X_train, y_train)\n",
    "\n",
    "# Make predictions on the test data\n",
    "predictions = nb_classifier.predict(X_test)\n",
    "\n",
    "# Evaluate the model\n",
    "accuracy = accuracy_score(y_test, predictions)\n",
    "report = classification_report(y_test, predictions)\n",
    "\n",
    "print(\"Accuracy:\", accuracy)\n",
    "print(\"Classification Report:\\n\", report)\n"
   ]
  },
  {
   "cell_type": "markdown",
   "id": "95c4b1fb",
   "metadata": {},
   "source": [
    "# 5. Model Training:\n",
    "    a. Train the Naive Bayes model using the feature-engineered dataset. Explain the probability estimation process in Naive Bayes for medical diagnosis.\n"
   ]
  },
  {
   "cell_type": "code",
   "execution_count": null,
   "id": "697957e4",
   "metadata": {},
   "outputs": [],
   "source": [
    "#a we already Trained the model.\n",
    "\n",
    "#b.\n",
    "\n",
    "Prior Probability: It starts with the likelihood of a person having a condition (like diabetes) or not, based on the overall dataset. \n",
    "                    For example, if 35% of the dataset has diabetes, then P(Diabetes)=0.35.\n",
    "\n",
    "Likelihood Estimation: Naive Bayes checks how likely certain test results (like glucose levels or BMI) are for each group (diabetes or non-diabetes). \n",
    "                       It does this by assuming that each test result is independent of the others.\n",
    "\n",
    "Posterior Probability: For a new patient with specific test results, Naive Bayes combines the prior probability and the likelihoods to calculate the probability of the patient having diabetes or not. \n",
    "                       It picks the condition (diabetes or no diabetes) with the higher probability.\n"
   ]
  },
  {
   "cell_type": "markdown",
   "id": "f973a4c8",
   "metadata": {},
   "source": [
    "# 6. Model Evaluation:\n",
    "    a. Assess the performance of the medical diagnosis model using relevant evaluation metrics, such as accuracy, precision, recall, and F1-score.\n",
    "    b. Interpret the results and discuss the model's ability to accurately classify medical conditions.\n"
   ]
  },
  {
   "cell_type": "code",
   "execution_count": 9,
   "id": "b5d3175e",
   "metadata": {},
   "outputs": [
    {
     "name": "stdout",
     "output_type": "stream",
     "text": [
      "Confusion Matrix:\n",
      " [[79 20]\n",
      " [16 39]]\n",
      "\n",
      "Accuracy: 0.77\n",
      "Precision: 0.66\n",
      "Recall: 0.71\n",
      "F1-Score: 0.68\n"
     ]
    }
   ],
   "source": [
    "# a. Assess the performance of the medical diagnosis model using relevant evaluation metrics, such as accuracy, precision, recall, and F1-score.\n",
    "\n",
    "from sklearn.metrics import confusion_matrix, accuracy_score, precision_score, recall_score, f1_score\n",
    "\n",
    "# Build the confusion matrix\n",
    "conf_matrix = confusion_matrix(y_test, predictions)\n",
    "\n",
    "# Extract true positives, true negatives, false positives, and false negatives from the confusion matrix\n",
    "tn, fp, fn, tp = conf_matrix.ravel()\n",
    "\n",
    "# Calculate evaluation metrics\n",
    "accuracy = accuracy_score(y_test, predictions)\n",
    "precision = precision_score(y_test, predictions)\n",
    "recall = recall_score(y_test, predictions)\n",
    "f1 = f1_score(y_test, predictions)\n",
    "\n",
    "# Print the confusion matrix and evaluation metrics\n",
    "print(\"Confusion Matrix:\\n\", conf_matrix)\n",
    "print(\"\\nAccuracy: {:.2f}\".format(accuracy))\n",
    "print(\"Precision: {:.2f}\".format(precision))\n",
    "print(\"Recall: {:.2f}\".format(recall))\n",
    "print(\"F1-Score: {:.2f}\".format(f1))\n"
   ]
  },
  {
   "cell_type": "code",
   "execution_count": null,
   "id": "e551a028",
   "metadata": {},
   "outputs": [],
   "source": [
    "# b. Interpret the results and discuss the model's ability to accurately classify medical conditions.\n",
    "\n",
    "Accuracy (77%):\n",
    "\n",
    "    The model correctly predicted medical conditions with an accuracy of 77%. \n",
    "    This indicates that in 77% of the cases, the model made the correct predictions regarding the presence or absence of the medical condition based on the provided features.\n",
    "\n",
    "Precision (66%):\n",
    "\n",
    "    Precision represents the proportion of patients predicted as having the medical condition who actually have it. \n",
    "    In this case, the model achieved a precision of 66%. \n",
    "    This means that out of all the patients the model identified as having the medical condition, 66% of them truly had it. \n",
    "    A higher precision would be desirable in scenarios where false positives (incorrectly identifying healthy patients as having the condition) need to be minimized.\n",
    "\n",
    "Recall (71%):\n",
    "\n",
    "    Recall, also known as sensitivity, measures the ability of the model to identify all relevant instances of the medical condition in the dataset. \n",
    "    The model achieved a recall of 71%. \n",
    "    This means that the model correctly identified 71% of all the patients who actually had the medical condition. \n",
    "    A higher recall is crucial when it's important not to miss any positive cases, ensuring that actual cases are identified.\n",
    "\n",
    "F1-Score (68%):\n",
    "\n",
    "    F1-score is the harmonic mean of precision and recall. \n",
    "    It provides a balance between these two metrics. The F1-score in this case is 68%, indicating a balanced trade-off between minimizing false positives and false negatives. \n",
    "    A higher F1-score signifies a better balance between precision and recall."
   ]
  },
  {
   "cell_type": "markdown",
   "id": "0e3a6d97",
   "metadata": {},
   "source": [
    "# 7. Laplace Smoothing:\n",
    "    a. Explain the concept of Laplace (add-one) smoothing and discuss its potential application in the context of medical diagnosis.\n",
    "    b. Discuss the impact of Laplace smoothing on model performance."
   ]
  },
  {
   "cell_type": "code",
   "execution_count": 13,
   "id": "97cac640",
   "metadata": {},
   "outputs": [
    {
     "name": "stdout",
     "output_type": "stream",
     "text": [
      "Accuracy: 0.7207792207792207\n",
      "Classification Report:\n",
      "               precision    recall  f1-score   support\n",
      "\n",
      "           0       0.73      0.91      0.81        99\n",
      "           1       0.70      0.38      0.49        55\n",
      "\n",
      "    accuracy                           0.72       154\n",
      "   macro avg       0.71      0.65      0.65       154\n",
      "weighted avg       0.72      0.72      0.70       154\n",
      "\n"
     ]
    }
   ],
   "source": [
    "import numpy as np\n",
    "from sklearn.model_selection import train_test_split\n",
    "from sklearn.naive_bayes import GaussianNB\n",
    "from sklearn.metrics import accuracy_score, classification_report\n",
    "\n",
    "X = scaled_features\n",
    "y = labels\n",
    "\n",
    "\n",
    "# Split the dataset into training and testing sets (80% training, 20% testing)\n",
    "X_train, X_test, y_train, y_test = train_test_split(scaled_features, labels, test_size=0.2, random_state=42)\n",
    "\n",
    "# Apply Laplace smoothing by adding a small constant (alpha) to the probabilities\n",
    "alpha = 1  # Laplace smoothing constant\n",
    "\n",
    "# Calculate prior probabilities with Laplace smoothing\n",
    "total_samples = len(y_train)\n",
    "prior_condition = (sum(y_train) + alpha) / (total_samples + 2 * alpha)  # 2 is the number of classes (Condition, No Condition)\n",
    "prior_no_condition = 1 - prior_condition\n",
    "\n",
    "# Initialize Gaussian Naive Bayes classifier with var_smoothing parameter for Laplace smoothing\n",
    "nb_classifier = GaussianNB(var_smoothing=alpha)\n",
    "\n",
    "# Train the model using the training data\n",
    "nb_classifier.fit(X_train, y_train)\n",
    "\n",
    "# Make predictions on the test data\n",
    "predictions = nb_classifier.predict(X_test)\n",
    "\n",
    "# Evaluate the model\n",
    "accuracy = accuracy_score(y_test, predictions)\n",
    "report = classification_report(y_test, predictions)\n",
    "\n",
    "print(\"Accuracy:\", accuracy)\n",
    "print(\"Classification Report:\\n\", report)\n"
   ]
  },
  {
   "cell_type": "code",
   "execution_count": null,
   "id": "deae17ab",
   "metadata": {},
   "outputs": [],
   "source": [
    "# b. Discuss the impact of Laplace smoothing on model performance.\n",
    "Laplace smoothing is crucial for our medical diagnosis model:\n",
    "\n",
    "Handling Unseen Data:\n",
    "\n",
    "    Without Smoothing: Zero probabilities for unseen features can lead to inaccurate predictions.\n",
    "    With Smoothing: Provides non-zero probabilities for all features, enabling accurate predictions even for previously unseen symptoms or test results.\n",
    "\n",
    "Balancing Predictions:\n",
    "\n",
    "    Without Smoothing: Imbalances in class data can skew predictions.\n",
    "    With Smoothing: Balances predictions, ensuring fair consideration of all class instances, vital in healthcare where false positives and negatives have different consequences.\n",
    "\n",
    "Preventing Overfitting:\n",
    "\n",
    "    Without Smoothing: Risk of memorizing training data, leading to poor generalization.\n",
    "    With Smoothing: Acts as regularization, promoting generalization and preventing overfitting, improving reliability on new patient cases.\n",
    "\n",
    "Improving Interpretability:\n",
    "\n",
    "    Without Smoothing: Sharp, erratic probability variations can be challenging to interpret.\n",
    "    With Smoothing: Provides a smoother, more interpretable probability distribution, aiding healthcare professionals in understanding predictions effectively."
   ]
  },
  {
   "cell_type": "markdown",
   "id": "12ad11e6",
   "metadata": {},
   "source": [
    "# 8. Real-World Application:\n",
    "    a. Describe the importance of accurate medical diagnosis in healthcare and research.\n",
    "    b. Discuss the practical implications of implementing a diagnostic system based on Naive Bayes.\n"
   ]
  },
  {
   "cell_type": "code",
   "execution_count": null,
   "id": "8b138180",
   "metadata": {},
   "outputs": [],
   "source": [
    "#     a. Describe the importance of accurate medical diagnosis in healthcare and research.\n",
    "\n",
    "Importance of Accurate Medical Diagnosis:\n",
    "\n",
    "    Critical Treatment Decisions: Accurate diagnosis guides precise and timely treatments, ensuring patients receive appropriate care.\n",
    "    Disease Monitoring: Accurate diagnoses are essential for monitoring disease progression and evaluating the effectiveness of interventions.\n",
    "    Medical Research Advancements: Reliable diagnoses contribute valuable data for medical research, aiding in the development of new therapies and understanding disease patterns."
   ]
  },
  {
   "cell_type": "code",
   "execution_count": null,
   "id": "1c7a9469",
   "metadata": {},
   "outputs": [],
   "source": [
    "#     b. Discuss the practical implications of implementing a diagnostic system based on Naive Bayes.\n",
    "\n",
    "Practical Implications of Implementing Naive Bayes:\n",
    "\n",
    "    Efficiency and Speed: Naive Bayes provides rapid predictions, enabling timely medical decisions, especially in urgent situations.\n",
    "    Interpretability: Its simplicity allows healthcare professionals to interpret and trust the model's output, ensuring confidence in the diagnostic process.\n",
    "    Resource Optimization: Naive Bayes is computationally efficient, conserving resources and making it applicable in resource-constrained environments.\n",
    "    Continuous Adaptation: Its ability to adapt to new data allows for continuous learning, ensuring the diagnostic system evolves with medical knowledge."
   ]
  },
  {
   "cell_type": "markdown",
   "id": "794d0780",
   "metadata": {},
   "source": [
    "# 9. Model Limitations:\n",
    "    a. Identify potential limitations of the Naive Bayes approach to medical diagnosis and discuss scenarios in which it may not perform well.\n",
    "\n",
    "    Simplistic Assumption:\n",
    "\n",
    "        Issue: Independence assumption might not hold for intricate medical data where symptoms often correlate.\n",
    "        Impact: Misinterpretation of feature relationships, leading to inaccurate predictions, especially in diseases with complex symptoms.\n",
    "\n",
    "    Data Quality and Relevance:\n",
    "\n",
    "        Issue: Sensitive to irrelevant or noisy features commonly found in medical datasets.\n",
    "        Impact: Noisy data can introduce biases, reducing prediction accuracy and clinical trust, crucial in healthcare decision-making.\n",
    "\n",
    "    Class Imbalance:\n",
    "\n",
    "        Issue: Skewed class distribution can bias predictions toward the majority class.\n",
    "        Impact: Overemphasis on common conditions, potentially missing rare but critical diagnoses, impacting patient outcomes.\n",
    "\n",
    "    Limited Learning Capacity:\n",
    "\n",
    "        Issue: Struggles with intricate patterns or non-linear relationships present in multifaceted diseases.\n",
    "        Impact: Inability to capture complex disease manifestations, limiting accuracy in diagnosing multifactorial medical conditions."
   ]
  },
  {
   "cell_type": "code",
   "execution_count": null,
   "id": "db0c962e",
   "metadata": {},
   "outputs": [],
   "source": [
    "10. Presentation and Recommendations:\n",
    "    a. Prepare a presentation or report summarizing your analysis, results, and recommendations for the medical research institute. Highlight the significance of accurate medical diagnosis and the role of Naive Bayes in healthcare.\n"
   ]
  },
  {
   "cell_type": "code",
   "execution_count": null,
   "id": "fd0f31d5",
   "metadata": {},
   "outputs": [],
   "source": []
  },
  {
   "cell_type": "code",
   "execution_count": null,
   "id": "87bfb2a6",
   "metadata": {},
   "outputs": [],
   "source": []
  },
  {
   "cell_type": "code",
   "execution_count": null,
   "id": "4e2d7081",
   "metadata": {},
   "outputs": [],
   "source": []
  },
  {
   "cell_type": "markdown",
   "id": "be1de6ca",
   "metadata": {},
   "source": [
    "# Customer Segmentation with K-Nearest Neighbors (KNN)\n",
    "\n",
    "You work for a retail company, and your task is to segment customers based on their purchase behavior using the K-Nearest Neighbors (KNN) algorithm. \n",
    "The dataset contains information about customers, such as purchase history, age, and income. \n",
    "Your goal is to create customer segments for targeted marketing. Answer the following questions based on this case study:\n",
    "\n",
    "1. Data Exploration:\n",
    "    a. Load the customer dataset using Python libraries like pandas and explore its structure. Describe the features, target variable, and data distribution.\n",
    "    b. Explain the importance of customer segmentation in the retail industry.\n",
    "    \n",
    "2. Data Preprocessing:\n",
    "    a. Prepare the customer data for analysis. Discuss the steps involved in data preprocessing, such as scaling, handling missing values, and encoding categorical variables.\n",
    "\n",
    "3. Implementing KNN:\n",
    "    a. Implement the K-Nearest Neighbors algorithm using Python libraries like scikit-learn to segment customers based on their features.\n",
    "    b. Choose an appropriate number of neighbors (K) for the algorithm and explain your choice.\n",
    "\n",
    "4. Model Training:\n",
    "    a. Train the KNN model using the preprocessed customer dataset.\n",
    "    b. Discuss the distance metric used for finding the nearest neighbors and its significance in customer segmentation.\n",
    "\n",
    "5. Customer Segmentation:\n",
    "    a. Segment the customers based on their purchase behavior, age, and income.\n",
    "    b. Visualize the customer segments to gain insights into the distribution and characteristics of each segment.\n",
    "\n",
    "6. Hyperparameter Tuning:\n",
    "    a. Explain the role of the hyperparameter (K) in the KNN algorithm and suggest strategies for selecting the optimal value of K.\n",
    "    b. Conduct hyperparameter tuning for the KNN model and discuss the impact of different values of K on segmentation results.\n",
    "\n",
    "7. Model Evaluation:\n",
    "    a. Evaluate the KNN model's performance in customer segmentation. Discuss the criteria and metrics used for evaluating unsupervised learning models.\n",
    "    b. Interpret the results and provide insights on how the customer segments can be leveraged for marketing strategies.\n",
    "\n",
    "8. Real-World Application:\n",
    "    a. Describe the practical applications of customer segmentation in the retail industry.\n",
    "    b. Discuss how customer segmentation can lead to improved customer engagement and increased sales.\n",
    "\n",
    "9. Model Limitations:\n",
    "    a. Identify potential limitations of the KNN algorithm in customer segmentation and discuss scenarios in which it may not perform well.\n",
    "\n",
    "10. Presentation and Recommendations:\n",
    "    a. Prepare a presentation or report summarizing your analysis, results, and recommendations for the retail company. Highlight the significance of customer segmentation and the role of KNN in data-driven marketing.\n",
    "\n",
    "    In this case study, you are required to demonstrate your ability to use the KNN algorithm for customer segmentation, understand the importance of hyperparameter tuning, and communicate the practical applications of customer segmentation in the retail sector.\n"
   ]
  },
  {
   "cell_type": "markdown",
   "id": "05ea1c55",
   "metadata": {},
   "source": [
    "# 1. Data Exploration:\n",
    "    a. Load the customer dataset using Python libraries like pandas and explore its structure. Describe the features, target variable, and data distribution.\n",
    "    b. Explain the importance of customer segmentation in the retail industry."
   ]
  },
  {
   "cell_type": "code",
   "execution_count": null,
   "id": "13de93e1",
   "metadata": {},
   "outputs": [],
   "source": [
    "#    a. Load the customer dataset using Python libraries like pandas and explore its structure. Describe the features, target variable, and data distribution.\n",
    "    Category: Type of product. (String)\n",
    "    Size: Size of the product. (String)\n",
    "    Date: Date of the sale. (Date)\n",
    "    Status: Status of the sale. (String)\n",
    "    Fulfilment: Method of fulfillment. (String)\n",
    "    Style: Style of the product. (String)\n",
    "    SKU: Stock Keeping Unit. (String)\n",
    "    ASIN: Amazon Standard Identification Number. (String)\n",
    "    Courier Status: Status of the courier. (String)\n",
    "    Qty: Quantity of the product. (Integer)\n",
    "    Amount: Amount of the sale. (Float)\n",
    "    B2B: Business to business sale. (Boolean)\n",
    "    Currency: The currency used for the sale. (String)"
   ]
  },
  {
   "cell_type": "code",
   "execution_count": 24,
   "id": "81490a22",
   "metadata": {},
   "outputs": [
    {
     "name": "stdout",
     "output_type": "stream",
     "text": [
      "First 5 rows of the dataset:\n",
      "   index             Order ID      Date                        Status  \\\n",
      "0      0  405-8078784-5731545  04-30-22                     Cancelled   \n",
      "1      1  171-9198151-1101146  04-30-22  Shipped - Delivered to Buyer   \n",
      "2      2  404-0687676-7273146  04-30-22                       Shipped   \n",
      "3      3  403-9615377-8133951  04-30-22                     Cancelled   \n",
      "4      4  407-1069790-7240320  04-30-22                       Shipped   \n",
      "\n",
      "  Fulfilment SalesChannel  ship-service-level    Style              SKU  \\\n",
      "0   Merchant     Amazon.in           Standard   SET389   SET389-KR-NP-S   \n",
      "1   Merchant     Amazon.in           Standard  JNE3781  JNE3781-KR-XXXL   \n",
      "2     Amazon     Amazon.in          Expedited  JNE3371    JNE3371-KR-XL   \n",
      "3   Merchant     Amazon.in           Standard    J0341       J0341-DR-L   \n",
      "4     Amazon     Amazon.in          Expedited  JNE3671  JNE3671-TU-XXXL   \n",
      "\n",
      "        Category  ... Qty currency  Amount    ship-city   ship-state  \\\n",
      "0            Set  ...   0      INR  647.62       MUMBAI  MAHARASHTRA   \n",
      "1          kurta  ...   1      INR  406.00    BENGALURU    KARNATAKA   \n",
      "2          kurta  ...   1      INR  329.00  NAVI MUMBAI  MAHARASHTRA   \n",
      "3  Western Dress  ...   0      INR  753.33   PUDUCHERRY   PUDUCHERRY   \n",
      "4            Top  ...   1      INR  574.00      CHENNAI   TAMIL NADU   \n",
      "\n",
      "   ship-postal-code ship-country  \\\n",
      "0            400081           IN   \n",
      "1            560085           IN   \n",
      "2            410210           IN   \n",
      "3            605008           IN   \n",
      "4            600073           IN   \n",
      "\n",
      "                                       promotion-ids    B2B fulfilled-by  \n",
      "0                                                NaN  False    Easy Ship  \n",
      "1  Amazon PLCC Free-Financing Universal Merchant ...  False    Easy Ship  \n",
      "2       IN Core Free Shipping 2015/04/08 23-48-5-108   True          NaN  \n",
      "3                                                NaN  False    Easy Ship  \n",
      "4                                                NaN  False          NaN  \n",
      "\n",
      "[5 rows x 23 columns]\n",
      "\n",
      "Features in the dataset:\n",
      "['index', 'Order ID', 'Date', 'Status', 'Fulfilment', 'SalesChannel ', 'ship-service-level', 'Style', 'SKU', 'Category', 'Size', 'ASIN', 'Courier Status', 'Qty', 'currency', 'Amount', 'ship-city', 'ship-state', 'ship-postal-code', 'ship-country', 'promotion-ids', 'B2B', 'fulfilled-by']\n",
      "\n",
      "Target Variable:\n",
      "Category\n",
      "\n",
      "Data Distribution Summary:\n",
      "            index          Qty       Amount  ship-postal-code\n",
      "count  1499.00000  1499.000000  1393.000000       1499.000000\n",
      "mean    749.00000     0.907939   628.697452     477841.351568\n",
      "std     432.86834     0.478716   278.589039     193095.046340\n",
      "min       0.00000     0.000000     0.000000     110003.000000\n",
      "25%     374.50000     1.000000   432.000000     390563.000000\n",
      "50%     749.00000     1.000000   579.000000     500070.000000\n",
      "75%    1123.50000     1.000000   759.000000     600083.000000\n",
      "max    1498.00000    15.000000  2224.000000     855115.000000\n",
      "\n",
      "Dataset Information:\n",
      "<class 'pandas.core.frame.DataFrame'>\n",
      "RangeIndex: 1499 entries, 0 to 1498\n",
      "Data columns (total 23 columns):\n",
      " #   Column              Non-Null Count  Dtype  \n",
      "---  ------              --------------  -----  \n",
      " 0   index               1499 non-null   int64  \n",
      " 1   Order ID            1499 non-null   object \n",
      " 2   Date                1499 non-null   object \n",
      " 3   Status              1499 non-null   object \n",
      " 4   Fulfilment          1499 non-null   object \n",
      " 5   SalesChannel        1499 non-null   object \n",
      " 6   ship-service-level  1499 non-null   object \n",
      " 7   Style               1499 non-null   object \n",
      " 8   SKU                 1499 non-null   object \n",
      " 9   Category            1499 non-null   object \n",
      " 10  Size                1499 non-null   object \n",
      " 11  ASIN                1499 non-null   object \n",
      " 12  Courier Status      1437 non-null   object \n",
      " 13  Qty                 1499 non-null   int64  \n",
      " 14  currency            1393 non-null   object \n",
      " 15  Amount              1393 non-null   float64\n",
      " 16  ship-city           1499 non-null   object \n",
      " 17  ship-state          1499 non-null   object \n",
      " 18  ship-postal-code    1499 non-null   int64  \n",
      " 19  ship-country        1499 non-null   object \n",
      " 20  promotion-ids       968 non-null    object \n",
      " 21  B2B                 1499 non-null   bool   \n",
      " 22  fulfilled-by        323 non-null    object \n",
      "dtypes: bool(1), float64(1), int64(3), object(18)\n",
      "memory usage: 259.2+ KB\n",
      "None\n"
     ]
    }
   ],
   "source": [
    "# Import necessary libraries\n",
    "import pandas as pd\n",
    "\n",
    "# Load the dataset into a pandas DataFrame\n",
    "data = pd.read_csv('Amazon_Sale_Report.csv')  \n",
    "\n",
    "# Display the first few rows of the dataset to understand its structure\n",
    "print(\"First 5 rows of the dataset:\")\n",
    "print(data.head())\n",
    "\n",
    "# Describe the features (columns) of the dataset\n",
    "features = data.columns.tolist()\n",
    "print(\"\\nFeatures in the dataset:\")\n",
    "print(features)\n",
    "\n",
    "# Describe the target variable\n",
    "target_variable = 'Category'  # Assuming 'Category' is the target variable column name\n",
    "print(\"\\nTarget Variable:\")\n",
    "print(target_variable)\n",
    "\n",
    "# Data distribution summary\n",
    "print(\"\\nData Distribution Summary:\")\n",
    "print(data.describe())\n",
    "\n",
    "# Information about the dataset including data types and non-null counts\n",
    "print(\"\\nDataset Information:\")\n",
    "print(data.info())\n"
   ]
  },
  {
   "cell_type": "code",
   "execution_count": null,
   "id": "2c2222a2",
   "metadata": {},
   "outputs": [],
   "source": [
    "#b. Explain the importance of customer segmentation in the retail industry.\n",
    "    \n",
    "    Product Preferences: Segment customers based on product categories and styles to understand popular items among different groups.\n",
    "\n",
    "    Fulfillment Optimization: Tailor shipping methods according to customer preferences for standard or expedited delivery.\n",
    "\n",
    "    Purchase Behavior Analysis: Analyze quantity and amount purchased to identify high-value customers and offer targeted incentives.\n",
    "\n",
    "    Stock Management: Manage inventory efficiently by stocking popular sizes and categories, preventing stockouts and optimizing storage.\n",
    "\n",
    "    Personalized Marketing: Craft personalized campaigns based on purchase history, improving marketing effectiveness.\n",
    "\n",
    "    B2B Opportunities: Identify corporate clients through B2B sales, tailor services, and nurture long-term partnerships.\n",
    "\n",
    "    Currency Preferences: Understand preferred currencies to display prices in regional choices, enhancing user experience and boosting sales."
   ]
  },
  {
   "cell_type": "markdown",
   "id": "81c63f76",
   "metadata": {},
   "source": [
    "# 2. Data Preprocessing:\n",
    "    a. Prepare the customer data for analysis. \n",
    "    Discuss the steps involved in data preprocessing, such as scaling, handling missing values, and encoding categorical variables."
   ]
  },
  {
   "cell_type": "code",
   "execution_count": null,
   "id": "cec9825b",
   "metadata": {},
   "outputs": [],
   "source": [
    "Handling Missing Values:\n",
    "\n",
    "    Remove or fill missing values in columns (mean, median, mode).\n",
    "\n",
    "Encoding Categorical Variables:\n",
    "\n",
    "    Convert categories to numerical values (Label Encoding) or binary vectors (One-Hot Encoding).\n",
    "Scaling Numerical Variables:\n",
    "\n",
    "    Standardize or normalize numerical features to ensure uniform scale."
   ]
  },
  {
   "cell_type": "code",
   "execution_count": 32,
   "id": "7109584b",
   "metadata": {},
   "outputs": [
    {
     "name": "stdout",
     "output_type": "stream",
     "text": [
      "   index             Order ID      Date              SKU       Category Size  \\\n",
      "0      0  405-8078784-5731545  04-30-22   SET389-KR-NP-S            Set    S   \n",
      "1      1  171-9198151-1101146  04-30-22  JNE3781-KR-XXXL          kurta  3XL   \n",
      "2      2  404-0687676-7273146  04-30-22    JNE3371-KR-XL          kurta   XL   \n",
      "3      3  403-9615377-8133951  04-30-22       J0341-DR-L  Western Dress    L   \n",
      "4      4  407-1069790-7240320  04-30-22  JNE3671-TU-XXXL            Top  3XL   \n",
      "\n",
      "         ASIN       Qty currency    Amount  ... Style_SET386 Style_SET388  \\\n",
      "0  B09KXVBD7Z -1.897244      INR  0.070485  ...            0            0   \n",
      "1  B09K3WFS32  0.192373      INR -0.829531  ...            0            0   \n",
      "2  B07WV4JV4D  0.192373      INR -1.116350  ...            0            0   \n",
      "3  B099NRCT7B -1.897244      INR  0.464247  ...            0            0   \n",
      "4  B098714BZP  0.192373      INR -0.203744  ...            0            0   \n",
      "\n",
      "   Style_SET389 Style_SET394 Style_SET397  Style_SET398  Style_SET400  \\\n",
      "0             1            0            0             0             0   \n",
      "1             0            0            0             0             0   \n",
      "2             0            0            0             0             0   \n",
      "3             0            0            0             0             0   \n",
      "4             0            0            0             0             0   \n",
      "\n",
      "   Style_SET408  Style_SET433  Style_SET436  \n",
      "0             0             0             0  \n",
      "1             0             0             0  \n",
      "2             0             0             0  \n",
      "3             0             0             0  \n",
      "4             0             0             0  \n",
      "\n",
      "[5 rows x 512 columns]\n"
     ]
    }
   ],
   "source": [
    "# Import necessary libraries\n",
    "import pandas as pd\n",
    "from sklearn.preprocessing import StandardScaler, LabelEncoder\n",
    "\n",
    "# Load the dataset into a pandas DataFrame\n",
    "data = pd.read_csv('Amazon_Sale_Report.csv')\n",
    "\n",
    "# Step 1: Handling Missing Values (Imputation using fillna())\n",
    "\n",
    "# For numerical columns ('Qty' and 'Amount'), fill missing values with mean\n",
    "data['Qty'].fillna(data['Qty'].mean(), inplace=True)\n",
    "data['Amount'].fillna(data['Amount'].mean(), inplace=True)\n",
    "\n",
    "# For categorical columns ('Status', 'Fulfilment', 'Courier Status', 'B2B'), fill missing values with mode (most frequent value)\n",
    "data['Status'].fillna(data['Status'].mode()[0], inplace=True)\n",
    "data['Fulfilment'].fillna(data['Fulfilment'].mode()[0], inplace=True)\n",
    "data['Courier Status'].fillna(data['Courier Status'].mode()[0], inplace=True)\n",
    "data['B2B'].fillna(data['B2B'].mode()[0], inplace=True)\n",
    "\n",
    "# For other categorical columns with multiple missing values, fill missing values with mode\n",
    "categorical_columns = ['SalesChannel', 'ship-service-level', 'Style', 'SKU', 'Category', 'Size', 'ASIN', 'ship-city', 'ship-state', 'ship-postal-code', 'ship-country', 'promotion-ids', 'fulfilled-by']\n",
    "for column in categorical_columns:\n",
    "    data[column].fillna(data[column].mode()[0], inplace=True)\n",
    "\n",
    "\n",
    "# Step 2: Encoding Categorical Variables\n",
    "# Use Label Encoding for categorical columns with two unique values ('B2B', 'fulfilled-by')\n",
    "label_encoders = {}\n",
    "for column in ['B2B', 'fulfilled-by']:\n",
    "    label_encoders[column] = LabelEncoder()\n",
    "    data[column] = label_encoders[column].fit_transform(data[column])\n",
    "\n",
    "# Use One-Hot Encoding for other categorical columns\n",
    "data = pd.get_dummies(data, columns=['Status', 'Fulfilment', 'Courier Status', 'SalesChannel', 'ship-service-level', 'Style'])\n",
    "\n",
    "# Step 3: Scaling Numerical Variables\n",
    "# Use StandardScaler to scale numerical columns ('Qty' and 'Amount')\n",
    "scaler = StandardScaler()\n",
    "data[['Qty', 'Amount']] = scaler.fit_transform(data[['Qty', 'Amount']])\n",
    "\n",
    "# Verify the preprocessed data\n",
    "print(data.head())\n",
    "\n",
    "# Now, the 'data' DataFrame contains preprocessed and encoded data ready for analysis.\n"
   ]
  },
  {
   "cell_type": "markdown",
   "id": "ff108d0a",
   "metadata": {},
   "source": [
    "# 3. Implementing KNN:\n",
    "    a. Implement the K-Nearest Neighbors algorithm using Python libraries like scikit-learn to segment customers based on their features.\n",
    "    b. Choose an appropriate number of neighbors (K) for the algorithm and explain your choice."
   ]
  },
  {
   "cell_type": "code",
   "execution_count": 38,
   "id": "5ce563af",
   "metadata": {},
   "outputs": [
    {
     "name": "stdout",
     "output_type": "stream",
     "text": [
      "Accuracy: 0.7662337662337663\n",
      "Classification Report:\n",
      "               precision    recall  f1-score   support\n",
      "\n",
      "           0       0.77      0.91      0.83        99\n",
      "           1       0.76      0.51      0.61        55\n",
      "\n",
      "    accuracy                           0.77       154\n",
      "   macro avg       0.76      0.71      0.72       154\n",
      "weighted avg       0.76      0.77      0.75       154\n",
      "\n"
     ]
    }
   ],
   "source": [
    "# Import necessary libraries\n",
    "from sklearn.model_selection import train_test_split\n",
    "from sklearn.preprocessing import StandardScaler\n",
    "from sklearn.neighbors import KNeighborsClassifier\n",
    "from sklearn.metrics import accuracy_score, classification_report\n",
    "\n",
    "# Assuming 'X' contains features and 'y' contains labels/targets\n",
    "# Split the data into training and testing sets\n",
    "X_train, X_test, y_train, y_test = train_test_split(X, y, test_size=0.2, random_state=42)\n",
    "\n",
    "# Step 1: Scale the features\n",
    "scaler = StandardScaler()\n",
    "X_train_scaled = scaler.fit_transform(X_train)\n",
    "X_test_scaled = scaler.transform(X_test)\n",
    "\n",
    "# Step 2: Choose an appropriate number of neighbors (K)\n",
    "k = 3 # Here we take K value as 3\n",
    "\n",
    "# Step 3: Train the KNN classifier\n",
    "knn_classifier = KNeighborsClassifier(n_neighbors=k)\n",
    "knn_classifier.fit(X_train_scaled, y_train)\n",
    "\n",
    "# Step 4: Make predictions\n",
    "predictions = knn_classifier.predict(X_test_scaled)\n",
    "\n",
    "# Step 5: Evaluate the model\n",
    "accuracy = accuracy_score(y_test, predictions)\n",
    "print(\"Accuracy:\", accuracy)\n",
    "print(\"Classification Report:\\n\", classification_report(y_test, predictions))\n"
   ]
  },
  {
   "cell_type": "code",
   "execution_count": null,
   "id": "fdaa088e",
   "metadata": {},
   "outputs": [],
   "source": [
    "# b. Choose an appropriate number of neighbors (K) for the algorithm and explain your choice.\n",
    "\n",
    "Setting K=3, in KNN allows the algorithm to consider the three nearest neighbors when making predictions. \n",
    "This can enhance model accuracy, especially in datasets where the decision boundaries are intricate. \n",
    "A smaller K value increases model sensitivity to local patterns, which can be beneficial when the data is well-structured and noise-free. \n",
    "However, the optimal K value depends on the specific dataset and often requires experimentation and validation techniques to determine the best choice."
   ]
  },
  {
   "cell_type": "markdown",
   "id": "a43e8b3f",
   "metadata": {},
   "source": [
    "# 4. Model Training:\n",
    "    a. Train the KNN model using the preprocessed customer dataset.\n",
    "    b. Discuss the distance metric used for finding the nearest neighbors and its significance in customer segmentation."
   ]
  },
  {
   "cell_type": "code",
   "execution_count": 16,
   "id": "5410b5aa",
   "metadata": {
    "scrolled": true
   },
   "outputs": [
    {
     "name": "stdout",
     "output_type": "stream",
     "text": [
      "Accuracy Score:  0.7222222222222222\n",
      "Confusion Matrix:\n",
      " [[6 0 2]\n",
      " [0 3 0]\n",
      " [2 1 4]]\n",
      "Classification Report:\n",
      "               precision    recall  f1-score   support\n",
      "\n",
      "      Canada       0.75      0.75      0.75         8\n",
      "      Mexico       0.75      1.00      0.86         3\n",
      "         USA       0.67      0.57      0.62         7\n",
      "\n",
      "    accuracy                           0.72        18\n",
      "   macro avg       0.72      0.77      0.74        18\n",
      "weighted avg       0.72      0.72      0.72        18\n",
      "\n"
     ]
    }
   ],
   "source": [
    "#     a. Train the KNN model using the preprocessed customer dataset.\n",
    "\n",
    "from sklearn.neighbors import KNeighborsClassifier\n",
    "from sklearn.model_selection import train_test_split\n",
    "from sklearn.metrics import accuracy_score, confusion_matrix, classification_report\n",
    "import pandas as pd\n",
    "\n",
    "# Load the data (assuming the data is in a CSV file named 'customer_segmentation.csv')\n",
    "data = pd.read_csv('customer_segmentation.csv')\n",
    "\n",
    "# Separate features and target variable\n",
    "X = data[['Age', 'Income', 'Education', 'Region']]\n",
    "y = data['Country']\n",
    "\n",
    "# Convert categorical features to numerical using one-hot encoding\n",
    "X = pd.get_dummies(X, columns=['Education', 'Region'], drop_first=True)\n",
    "\n",
    "# Split the data into training and testing sets\n",
    "X_train, X_test, y_train, y_test = train_test_split(X, y, test_size=0.2, random_state=42)\n",
    "\n",
    "# Initialize and train the KNN model\n",
    "knn_model = KNeighborsClassifier(n_neighbors=3)\n",
    "knn_model.fit(X_train, y_train)\n",
    "\n",
    "# Make predictions on the test set\n",
    "y_pred = knn_model.predict(X_test)\n",
    "\n",
    "# Calculate and print metrics\n",
    "print(\"Accuracy Score: \", accuracy_score(y_test, y_pred))\n",
    "print(\"Confusion Matrix:\\n\", confusion_matrix(y_test, y_pred))\n",
    "print(\"Classification Report:\\n\", classification_report(y_test, y_pred))\n"
   ]
  },
  {
   "cell_type": "code",
   "execution_count": null,
   "id": "c1a82f20",
   "metadata": {},
   "outputs": [],
   "source": [
    "# b. Discuss the distance metric used for finding the nearest neighbors and its significance in customer segmentation.\n",
    "\n",
    "The choice of distance metric in K-Nearest Neighbors (KNN) algorithm significantly impacts customer segmentation:\n",
    "\n",
    "    Different metrics emphasize different aspects of the data, affecting the segmentation accuracy and pattern recognition in the results. For instance:\n",
    "\n",
    "    Euclidean Distance: Assumes features have similar importance and scales. It is sensitive to outliers, affecting the overall segmentation.\n",
    "\n",
    "    Manhattan Distance: Suitable for datasets with features on different scales, offering a more balanced view of distances between points.\n",
    "\n",
    "    Cosine Similarity: Effective for textual or preference-based data, focusing on the direction rather than magnitude, providing meaningful customer groupings for similar preferences.\n",
    "\n",
    "    Hamming Distance: Ideal for categorical data, emphasizing dissimilarity between categories, essential for region or education level comparisons.\n",
    "\n",
    "The choice of the right distance metric ensures the segmentation aligns with the inherent characteristics of the data, leading to more accurate customer groups and insights."
   ]
  },
  {
   "cell_type": "markdown",
   "id": "4ca37245",
   "metadata": {},
   "source": [
    "# 5. Customer Segmentation:\n",
    "    a. Segment the customers based on their purchase behavior, age, and income.\n",
    "    b. Visualize the customer segments to gain insights into the distribution and characteristics of each segment.\n"
   ]
  },
  {
   "cell_type": "code",
   "execution_count": 27,
   "id": "7220f04f",
   "metadata": {
    "scrolled": false
   },
   "outputs": [
    {
     "name": "stderr",
     "output_type": "stream",
     "text": [
      "C:\\Users\\Abhisek Das\\anaconda3\\Lib\\site-packages\\sklearn\\cluster\\_kmeans.py:1334: UserWarning: KMeans is known to have a memory leak on Windows with MKL, when there are less chunks than available threads. You can avoid it by setting the environment variable OMP_NUM_THREADS=1.\n",
      "  warnings.warn(\n"
     ]
    },
    {
     "name": "stdout",
     "output_type": "stream",
     "text": [
      "   Age  Income    Education Region Country  Cluster\n",
      "0   35   50000    Bachelors  North     USA        2\n",
      "1   42   75000      Masters  South     USA        2\n",
      "2   28   32000  High School   East  Canada        1\n",
      "3   45   90000          PhD   West     USA        0\n",
      "4   36   60000    Bachelors  North  Canada        2\n"
     ]
    }
   ],
   "source": [
    "#  a. Segment the customers based on their purchase behavior, age, and income.\n",
    "# in my data set purchase behavious is notpresent\n",
    "\n",
    "import pandas as pd\n",
    "from sklearn.preprocessing import StandardScaler\n",
    "from sklearn.cluster import KMeans\n",
    "\n",
    "# Load your dataset \n",
    "data = pd.read_csv('customer_segmentation.csv')\n",
    "\n",
    "# Extract the features\n",
    "X = data[['Age', 'Income']]\n",
    "\n",
    "# Apply feature scaling\n",
    "scaler = StandardScaler()\n",
    "X_scaled = scaler.fit_transform(X)\n",
    "\n",
    "# Initialize K-Means with the desired number of clusters\n",
    "num_clusters = 3  # You can adjust this based on your analysis\n",
    "kmeans = KMeans(n_clusters=num_clusters, random_state=2)\n",
    "\n",
    "# Fit the K-Means model to the scaled data\n",
    "clusters = kmeans.fit_predict(X_scaled)\n",
    "\n",
    "# Add the cluster labels to the original dataset\n",
    "data['Cluster'] = clusters\n",
    "\n",
    "# Print the first few rows of the updated dataset with cluster labels\n",
    "print(data.head())\n"
   ]
  },
  {
   "cell_type": "code",
   "execution_count": 32,
   "id": "9697fe86",
   "metadata": {},
   "outputs": [
    {
     "data": {
      "image/png": "[encoded data removed]",
      "text/plain": [
       "<Figure size 800x600 with 1 Axes>"
      ]
     },
     "metadata": {},
     "output_type": "display_data"
    },
    {
     "name": "stdout",
     "output_type": "stream",
     "text": [
      "Cluster Characteristics based on Median Age and Income:\n",
      "          Age   Income\n",
      "Cluster               \n",
      "0        48.0  93000.0\n",
      "1        28.5  35000.0\n",
      "2        37.5  64000.0\n"
     ]
    }
   ],
   "source": [
    "# b. Visualize the customer segments to gain insights into the distribution and characteristics of each segment.\n",
    "\n",
    "import seaborn as sns\n",
    "import matplotlib.pyplot as plt\n",
    "\n",
    "# Plotting the customer segments based on age and income\n",
    "plt.figure(figsize=(8, 6))\n",
    "sns.scatterplot(x='Age', y='Income', hue='Cluster', data=data, palette='Set1', s=100)\n",
    "plt.title('Customer Segments based on Age and Income')\n",
    "plt.xlabel('Age')\n",
    "plt.ylabel('Income')\n",
    "plt.show()\n",
    "\n",
    "\n",
    "# Calculate mean or median values of age and income for each cluster\n",
    "cluster_characteristics = data.groupby('Cluster')[['Age', 'Income']].median()\n",
    "\n",
    "# Print the characteristics of each cluster\n",
    "print(\"Cluster Characteristics based on Median Age and Income:\")\n",
    "print(cluster_characteristics)\n",
    "\n"
   ]
  },
  {
   "cell_type": "markdown",
   "id": "a6b9d645",
   "metadata": {},
   "source": [
    "# 6. Hyperparameter Tuning:\n",
    "    a. Explain the role of the hyperparameter (K) in the KNN algorithm and suggest strategies for selecting the optimal value of K.\n",
    "    b. Conduct hyperparameter tuning for the KNN model and discuss the impact of different values of K on segmentation results.\n",
    "\n"
   ]
  },
  {
   "cell_type": "code",
   "execution_count": null,
   "id": "ea6b9e46",
   "metadata": {},
   "outputs": [],
   "source": [
    "# a. Explain the role of the hyperparameter (K) in the KNN algorithm and suggest strategies for selecting the optimal value of K.\n",
    "\n",
    "Role of Hyperparameter (K) in KNN Algorithm:\n",
    "\n",
    "K (Number of Neighbors): It defines how many nearest neighbors should be considered for making a prediction. A small K value (e.g., 1 or 3) results in a flexible model that captures fine patterns in the data but might be sensitive to noise. A large K value (e.g., 10 or 20) results in a smoother decision boundary but might miss intricate patterns. The choice of K significantly impacts the model's bias and variance.\n",
    "\n",
    "Strategies for Selecting Optimal K:\n",
    "\n",
    "\n",
    "    Cross-Validation: Use techniques like k-fold cross-validation to evaluate the model's performance for different K values. Select the K that gives the best performance on the validation set.\n",
    "\n",
    "    Elbow Method: Plot the accuracy or error rate for different K values and look for an \"elbow point\" where the rate of change sharply decreases. This point suggests the optimal K.\n",
    "\n",
    "    Grid Search: For a small range of K values, perform an exhaustive search using grid search along with cross-validation to find the best K.\n",
    "\n",
    "    Domain Knowledge: Consider domain-specific knowledge; sometimes, certain K values might align better with the inherent patterns of the data."
   ]
  },
  {
   "cell_type": "code",
   "execution_count": 33,
   "id": "c1da7a4a",
   "metadata": {},
   "outputs": [
    {
     "name": "stdout",
     "output_type": "stream",
     "text": [
      "Best K: 3\n",
      "Best Accuracy: 0.826797385620915\n"
     ]
    }
   ],
   "source": [
    "from sklearn.model_selection import GridSearchCV\n",
    "\n",
    "# Define the parameter grid with different K values to try\n",
    "param_grid = {'n_neighbors': [3, 5, 7, 9, 11]}\n",
    "\n",
    "# Initialize KNN classifier\n",
    "knn = KNeighborsClassifier()\n",
    "\n",
    "# Perform grid search with 5-fold cross-validation\n",
    "grid_search = GridSearchCV(knn, param_grid, cv=5)\n",
    "\n",
    "# Fit the grid search to the data\n",
    "grid_search.fit(X, y)\n",
    "\n",
    "# Print the best parameters and corresponding accuracy\n",
    "print(\"Best K:\", grid_search.best_params_['n_neighbors'])\n",
    "print(\"Best Accuracy:\", grid_search.best_score_)\n"
   ]
  },
  {
   "cell_type": "markdown",
   "id": "a086d9ad",
   "metadata": {},
   "source": [
    "# 7. Model Evaluation:\n",
    "    a. Evaluate the KNN model's performance in customer segmentation. \n",
    "    Discuss the criteria and metrics used for evaluating unsupervised learning models.\n",
    "    b. Interpret the results and provide insights on how the customer segments can be leveraged for marketing strategies."
   ]
  },
  {
   "cell_type": "code",
   "execution_count": 39,
   "id": "06a192d9",
   "metadata": {},
   "outputs": [
    {
     "name": "stderr",
     "output_type": "stream",
     "text": [
      "C:\\Users\\Abhisek Das\\anaconda3\\Lib\\site-packages\\sklearn\\cluster\\_kmeans.py:1334: UserWarning: KMeans is known to have a memory leak on Windows with MKL, when there are less chunks than available threads. You can avoid it by setting the environment variable OMP_NUM_THREADS=1.\n",
      "  warnings.warn(\n"
     ]
    },
    {
     "name": "stdout",
     "output_type": "stream",
     "text": [
      "Number of clusters: 2, Silhouette Score: 0.6507040827442603\n"
     ]
    },
    {
     "name": "stderr",
     "output_type": "stream",
     "text": [
      "C:\\Users\\Abhisek Das\\anaconda3\\Lib\\site-packages\\sklearn\\cluster\\_kmeans.py:1334: UserWarning: KMeans is known to have a memory leak on Windows with MKL, when there are less chunks than available threads. You can avoid it by setting the environment variable OMP_NUM_THREADS=1.\n",
      "  warnings.warn(\n"
     ]
    },
    {
     "name": "stdout",
     "output_type": "stream",
     "text": [
      "Number of clusters: 3, Silhouette Score: 0.6164066107231596\n"
     ]
    },
    {
     "name": "stderr",
     "output_type": "stream",
     "text": [
      "C:\\Users\\Abhisek Das\\anaconda3\\Lib\\site-packages\\sklearn\\cluster\\_kmeans.py:1334: UserWarning: KMeans is known to have a memory leak on Windows with MKL, when there are less chunks than available threads. You can avoid it by setting the environment variable OMP_NUM_THREADS=1.\n",
      "  warnings.warn(\n"
     ]
    },
    {
     "name": "stdout",
     "output_type": "stream",
     "text": [
      "Number of clusters: 4, Silhouette Score: 0.5897326667492996\n"
     ]
    },
    {
     "name": "stderr",
     "output_type": "stream",
     "text": [
      "C:\\Users\\Abhisek Das\\anaconda3\\Lib\\site-packages\\sklearn\\cluster\\_kmeans.py:1334: UserWarning: KMeans is known to have a memory leak on Windows with MKL, when there are less chunks than available threads. You can avoid it by setting the environment variable OMP_NUM_THREADS=1.\n",
      "  warnings.warn(\n"
     ]
    },
    {
     "name": "stdout",
     "output_type": "stream",
     "text": [
      "Number of clusters: 5, Silhouette Score: 0.5829801412894003\n"
     ]
    },
    {
     "name": "stderr",
     "output_type": "stream",
     "text": [
      "C:\\Users\\Abhisek Das\\anaconda3\\Lib\\site-packages\\sklearn\\cluster\\_kmeans.py:1334: UserWarning: KMeans is known to have a memory leak on Windows with MKL, when there are less chunks than available threads. You can avoid it by setting the environment variable OMP_NUM_THREADS=1.\n",
      "  warnings.warn(\n"
     ]
    },
    {
     "name": "stdout",
     "output_type": "stream",
     "text": [
      "Cluster Counts:\n",
      "0    47\n",
      "1    39\n",
      "Name: Cluster, dtype: int64\n",
      "Cluster Means:\n",
      "               Age        Income\n",
      "Cluster                         \n",
      "0        30.829787  43425.531915\n",
      "1        46.923077  89923.076923\n"
     ]
    },
    {
     "name": "stderr",
     "output_type": "stream",
     "text": [
      "C:\\Users\\Abhisek Das\\AppData\\Local\\Temp\\ipykernel_3436\\2407408829.py:44: FutureWarning: The default value of numeric_only in DataFrameGroupBy.mean is deprecated. In a future version, numeric_only will default to False. Either specify numeric_only or select only columns which should be valid for the function.\n",
      "  cluster_means = data.groupby('Cluster').mean()\n"
     ]
    }
   ],
   "source": [
    "import pandas as pd\n",
    "from sklearn.preprocessing import StandardScaler\n",
    "from sklearn.cluster import KMeans\n",
    "\n",
    "# Load your preprocessed data into a DataFrame (replace 'your_data.csv' with your actual data file)\n",
    "data = pd.read_csv('customer_segmentation.csv')\n",
    "\n",
    "# Select the features you want to use for clustering (assuming Age and Income for this example)\n",
    "features = ['Age', 'Income']\n",
    "X = data[features]\n",
    "\n",
    "# Scale the features\n",
    "scaler = StandardScaler()\n",
    "X_scaled = scaler.fit_transform(X)\n",
    "\n",
    "# Determine the optimal number of clusters using the silhouette score\n",
    "best_score = -1\n",
    "best_clusters = 0\n",
    "\n",
    "for num_clusters in range(2, 6):  # Try different numbers of clusters\n",
    "    kmeans = KMeans(n_clusters=num_clusters, random_state=42)\n",
    "    clusters = kmeans.fit_predict(X_scaled)\n",
    "    silhouette_avg = silhouette_score(X_scaled, clusters)\n",
    "    \n",
    "    print(f\"Number of clusters: {num_clusters}, Silhouette Score: {silhouette_avg}\")\n",
    "    \n",
    "    if silhouette_avg > best_score:\n",
    "        best_score = silhouette_avg\n",
    "        best_clusters = num_clusters\n",
    "\n",
    "# Use the best number of clusters to fit the final K-Means model\n",
    "kmeans = KMeans(n_clusters=best_clusters, random_state=2)\n",
    "clusters = kmeans.fit_predict(X_scaled)\n",
    "\n",
    "# Add cluster labels to the original DataFrame\n",
    "data['Cluster'] = clusters\n",
    "\n",
    "# Analyze the clusters and interpret the results for marketing strategies\n",
    "cluster_counts = data['Cluster'].value_counts()\n",
    "print(\"Cluster Counts:\")\n",
    "print(cluster_counts)\n",
    "\n",
    "# You can analyze cluster characteristics, such as mean Age, Income, etc.\n",
    "cluster_means = data.groupby('Cluster').mean()\n",
    "print(\"Cluster Means:\")\n",
    "print(cluster_means)\n"
   ]
  },
  {
   "cell_type": "code",
   "execution_count": null,
   "id": "5fffa499",
   "metadata": {},
   "outputs": [],
   "source": [
    "# b. Interpret the results and provide insights on how the customer segments can be leveraged for marketing strategies.\n",
    "\n",
    "    Cluster 0: Young, budget-conscious customers.\n",
    "\n",
    "        Strategy: Offer affordable, value-focused products/services. Focus on discounts and budget-friendly options.\n",
    "    \n",
    "    Cluster 1: Older, high-income customers.\n",
    "\n",
    "        Strategy: Provide premium, high-quality products/services. Emphasize exclusivity, quality, and personalized experiences.\n",
    "\n",
    "Marketing Strategies:\n",
    "\n",
    "    Targeted Campaigns: Tailor ads, slogans, and imagery for each cluster.\n",
    "    Product Customization: Create products/services catering to specific demographics.\n",
    "    Pricing: Adjust prices based on income levels. Offer discounts for budget-conscious customers, emphasize value for high-income customers.\n",
    "    Customer Engagement: Use preferred social platforms for targeted engagement.\n",
    "    Customer Experience: Enhance service based on cluster-specific needs and feedback.\n",
    "    Product Development: Launch new products based on cluster demands.\n",
    "    Retention: Personalized loyalty programs for each cluster.\n",
    "    Geographic Targeting: Open stores in areas preferred by each cluster for effective reach."
   ]
  },
  {
   "cell_type": "code",
   "execution_count": null,
   "id": "82d0d439",
   "metadata": {},
   "outputs": [],
   "source": []
  },
  {
   "cell_type": "markdown",
   "id": "9e3e60b9",
   "metadata": {},
   "source": [
    "# 8. Real-World Application:\n",
    "    a. Describe the practical applications of customer segmentation in the retail industry.\n",
    "    b. Discuss how customer segmentation can lead to improved customer engagement and increased sales.\n"
   ]
  },
  {
   "cell_type": "code",
   "execution_count": null,
   "id": "e755bfcf",
   "metadata": {},
   "outputs": [],
   "source": [
    "#a. Practical Applications in Retail:\n",
    "\n",
    "    Customer segmentation in retail enables personalized marketing strategies, optimizing product recommendations and loyalty programs. \n",
    "    It aids in store layout design, stock management, and seasonal promotions. \n",
    "    Additionally, it helps identify high-value customers, enabling retailers to offer exclusive services and incentives."
   ]
  },
  {
   "cell_type": "code",
   "execution_count": null,
   "id": "b81c5c50",
   "metadata": {},
   "outputs": [],
   "source": [
    "# b. Improved Engagement and Sales:\n",
    "\n",
    "    Segmented marketing enhances customer engagement by delivering relevant content, reducing marketing costs, and improving ROI. \n",
    "    Understanding customer preferences and behavior leads to targeted communication, boosting customer satisfaction. \n",
    "    This tailored approach fosters brand loyalty, leading to increased sales, customer retention, and long-term profitability."
   ]
  },
  {
   "cell_type": "markdown",
   "id": "07f9da97",
   "metadata": {},
   "source": [
    "# 9. Model Limitations:\n",
    "    a. Identify potential limitations of the KNN algorithm in customer segmentation and discuss scenarios in which it may not perform well."
   ]
  },
  {
   "cell_type": "code",
   "execution_count": null,
   "id": "449e8fb5",
   "metadata": {},
   "outputs": [],
   "source": [
    "# a. Model Limitations in Customer Segmentation:\n",
    "\n",
    "        KNN's effectiveness heavily relies on the choice of distance metric and the curse of dimensionality. \n",
    "        In our customer segmentation, if the features are not appropriately scaled, it could impact results. \n",
    "        Additionally, KNN struggles with high-dimensional data, potentially leading to inaccuracies in complex datasets like customer profiles with numerous attributes. \n",
    "        Furthermore, KNN assumes uniform importance of features, which might not be the case in real-world scenarios where certain features could significantly influence customer behavior. \n",
    "        Lastly, KNN is sensitive to outliers and noise, which might misguide the clustering process, leading to less accurate customer segments."
   ]
  },
  {
   "cell_type": "code",
   "execution_count": null,
   "id": "53558f9a",
   "metadata": {},
   "outputs": [],
   "source": []
  }
 ],
 "metadata": {
  "kernelspec": {
   "display_name": "Python 3 (ipykernel)",
   "language": "python",
   "name": "python3"
  },
  "language_info": {
   "codemirror_mode": {
    "name": "ipython",
    "version": 3
   },
   "file_extension": ".py",
   "mimetype": "text/x-python",
   "name": "python",
   "nbconvert_exporter": "python",
   "pygments_lexer": "ipython3",
   "version": "3.11.4"
  }
 },
 "nbformat": 4,
 "nbformat_minor": 5
}
